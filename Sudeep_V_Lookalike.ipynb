{
  "nbformat": 4,
  "nbformat_minor": 0,
  "metadata": {
    "colab": {
      "provenance": []
    },
    "kernelspec": {
      "name": "python3",
      "display_name": "Python 3"
    },
    "language_info": {
      "name": "python"
    }
  },
  "cells": [
    {
      "cell_type": "code",
      "execution_count": 3,
      "metadata": {
        "id": "iAy9aDm58uwS"
      },
      "outputs": [],
      "source": [
        "import pandas as pd\n",
        "import numpy as np\n",
        "import matplotlib.pyplot as plt\n",
        "from sklearn.metrics.pairwise import cosine_similarity"
      ]
    },
    {
      "cell_type": "code",
      "source": [
        "# Load datasets\n",
        "customers = pd.read_csv('Customers.csv')\n",
        "products = pd.read_csv('Products.csv')\n",
        "transactions = pd.read_csv('Transactions.csv')\n",
        "\n",
        "\n"
      ],
      "metadata": {
        "id": "VPGGBUMt991b"
      },
      "execution_count": 4,
      "outputs": []
    },
    {
      "cell_type": "code",
      "source": [
        "# Merge datasets\n",
        "merged_data = transactions.merge(customers, on='CustomerID').merge(products, on='ProductID')\n",
        "print(merged_data.head())"
      ],
      "metadata": {
        "colab": {
          "base_uri": "https://localhost:8080/"
        },
        "id": "LPKpYdWUAJdY",
        "outputId": "e8d9dfe1-271a-4fbb-b8cc-db4fc6dc5cad"
      },
      "execution_count": 10,
      "outputs": [
        {
          "output_type": "stream",
          "name": "stdout",
          "text": [
            "  TransactionID CustomerID ProductID      TransactionDate  Quantity  \\\n",
            "0        T00001      C0199      P067  2024-08-25 12:38:23         1   \n",
            "1        T00112      C0146      P067  2024-05-27 22:23:54         1   \n",
            "2        T00166      C0127      P067  2024-04-25 07:38:55         1   \n",
            "3        T00272      C0087      P067  2024-03-26 22:55:37         2   \n",
            "4        T00363      C0070      P067  2024-03-21 15:10:10         3   \n",
            "\n",
            "   TotalValue  Price_x     CustomerName         Region  SignupDate  \\\n",
            "0      300.68   300.68   Andrea Jenkins         Europe  2022-12-03   \n",
            "1      300.68   300.68  Brittany Harvey           Asia  2024-09-04   \n",
            "2      300.68   300.68  Kathryn Stevens         Europe  2024-04-04   \n",
            "3      601.36   300.68  Travis Campbell  South America  2024-04-11   \n",
            "4      902.04   300.68    Timothy Perez         Europe  2022-03-15   \n",
            "\n",
            "                       ProductName     Category  Price_y  \n",
            "0  ComfortLiving Bluetooth Speaker  Electronics   300.68  \n",
            "1  ComfortLiving Bluetooth Speaker  Electronics   300.68  \n",
            "2  ComfortLiving Bluetooth Speaker  Electronics   300.68  \n",
            "3  ComfortLiving Bluetooth Speaker  Electronics   300.68  \n",
            "4  ComfortLiving Bluetooth Speaker  Electronics   300.68  \n"
          ]
        }
      ]
    },
    {
      "cell_type": "code",
      "source": [
        "#Feature Engineering\n",
        "# Aggregate features for each customer\n",
        "customer_features = merged_data.groupby('CustomerID').agg({\n",
        "    'TotalValue': 'sum',   # Total spending\n",
        "    'Quantity': 'sum',     # Total quantity purchased\n",
        "    'Region': lambda x: x.mode()[0],  # Most frequent region\n",
        "    'Category': lambda x: ' '.join(x)  # Categories purchased\n",
        "}).reset_index()\n",
        "\n",
        "# Encode categorical variables (Region and Category)\n",
        "customer_features = pd.get_dummies(customer_features, columns=['Region'], drop_first=True)\n",
        "from sklearn.feature_extraction.text import CountVectorizer\n",
        "vectorizer = CountVectorizer()\n",
        "category_matrix = vectorizer.fit_transform(customer_features['Category'])\n",
        "category_df = pd.DataFrame(category_matrix.toarray(), columns=vectorizer.get_feature_names_out())\n",
        "customer_features = pd.concat([customer_features, category_df], axis=1).drop('Category', axis=1)\n",
        "\n",
        "print(customer_features.head())"
      ],
      "metadata": {
        "colab": {
          "base_uri": "https://localhost:8080/"
        },
        "id": "TI4LmsDcANmc",
        "outputId": "706688f1-669c-4016-a97f-13712e8fc717"
      },
      "execution_count": 11,
      "outputs": [
        {
          "output_type": "stream",
          "name": "stdout",
          "text": [
            "  CustomerID  TotalValue  Quantity  Region_Europe  Region_North America  \\\n",
            "0      C0001     3354.52        12          False                 False   \n",
            "1      C0002     1862.74        10          False                 False   \n",
            "2      C0003     2725.38        14          False                 False   \n",
            "3      C0004     5354.88        23          False                 False   \n",
            "4      C0005     2034.24         7          False                 False   \n",
            "\n",
            "   Region_South America  books  clothing  decor  electronics  home  \n",
            "0                  True      1         0      1            3     1  \n",
            "1                 False      0         2      2            0     2  \n",
            "2                  True      0         1      2            1     2  \n",
            "3                  True      3         0      3            2     3  \n",
            "4                 False      0         0      1            2     1  \n"
          ]
        }
      ]
    },
    {
      "cell_type": "code",
      "source": [
        "#Calculating Similarity\n",
        "\n",
        "# Prepare feature matrix\n",
        "feature_matrix = customer_features.drop('CustomerID', axis=1)\n",
        "\n",
        "# Compute cosine similarity\n",
        "similarity_matrix = cosine_similarity(feature_matrix)\n",
        "similarity_df = pd.DataFrame(similarity_matrix, index=customer_features['CustomerID'], columns=customer_features['CustomerID'])\n",
        "\n",
        "print(similarity_df.head())"
      ],
      "metadata": {
        "colab": {
          "base_uri": "https://localhost:8080/"
        },
        "id": "S-FDQW3dAZCn",
        "outputId": "95157e7e-5c72-4f7f-eb8b-ed5ade04aafb"
      },
      "execution_count": 12,
      "outputs": [
        {
          "output_type": "stream",
          "name": "stdout",
          "text": [
            "CustomerID     C0001     C0002     C0003     C0004     C0005     C0006  \\\n",
            "CustomerID                                                               \n",
            "C0001       1.000000  0.999997  0.999998  0.999999  1.000000  0.999999   \n",
            "C0002       0.999997  1.000000  0.999999  0.999998  0.999997  0.999996   \n",
            "C0003       0.999998  0.999999  1.000000  0.999999  0.999998  0.999997   \n",
            "C0004       0.999999  0.999998  0.999999  1.000000  0.999999  0.999999   \n",
            "C0005       1.000000  0.999997  0.999998  0.999999  1.000000  0.999999   \n",
            "\n",
            "CustomerID     C0007     C0008     C0009     C0010  ...     C0191     C0192  \\\n",
            "CustomerID                                          ...                       \n",
            "C0001       1.000000  0.999999  0.999997  0.999992  ...  1.000000  1.000000   \n",
            "C0002       0.999996  0.999999  0.999995  0.999997  ...  0.999996  0.999997   \n",
            "C0003       0.999998  1.000000  0.999995  0.999996  ...  0.999998  0.999998   \n",
            "C0004       0.999999  1.000000  0.999996  0.999994  ...  0.999999  0.999999   \n",
            "C0005       1.000000  0.999999  0.999997  0.999991  ...  0.999999  0.999999   \n",
            "\n",
            "CustomerID     C0193     C0194     C0195     C0196     C0197     C0198  \\\n",
            "CustomerID                                                               \n",
            "C0001       0.999999  1.000000  0.999999  0.999999  0.999999  0.999999   \n",
            "C0002       0.999996  0.999998  0.999999  0.999995  0.999998  0.999995   \n",
            "C0003       0.999997  0.999999  1.000000  0.999996  0.999999  0.999996   \n",
            "C0004       0.999999  1.000000  1.000000  0.999998  0.999999  0.999998   \n",
            "C0005       0.999998  1.000000  0.999999  0.999999  0.999999  0.999999   \n",
            "\n",
            "CustomerID     C0199     C0200  \n",
            "CustomerID                      \n",
            "C0001       0.999999  1.000000  \n",
            "C0002       0.999998  0.999997  \n",
            "C0003       0.999999  0.999998  \n",
            "C0004       0.999999  0.999999  \n",
            "C0005       0.999999  1.000000  \n",
            "\n",
            "[5 rows x 199 columns]\n"
          ]
        }
      ]
    },
    {
      "cell_type": "code",
      "source": [
        "# Generate recommendations for first 20 customers\n",
        "recommendations = {}\n",
        "for customer in customer_features['CustomerID'][:20]:\n",
        "    similar_customers = similarity_df[customer].sort_values(ascending=False)[1:4]  # Top 3 excluding itself\n",
        "    recommendations[customer] = [{'CustomerID': cust, 'Score': score} for cust, score in similar_customers.items()]\n",
        "\n",
        "# Convert recommendations to DataFrame\n",
        "recommendations_df = pd.DataFrame.from_dict(recommendations, orient='index', columns=['Lookalike1', 'Lookalike2', 'Lookalike3'])\n",
        "recommendations_df.index.name = 'CustomerID'\n",
        "recommendations_df.reset_index(inplace=True)\n",
        "\n",
        "# Save to CSV\n",
        "recommendations_df.to_csv('Sudeep_V_Lookalike.csv', index=False)\n",
        "print(recommendations_df.head())"
      ],
      "metadata": {
        "colab": {
          "base_uri": "https://localhost:8080/"
        },
        "id": "rdmFsXnJAn6T",
        "outputId": "1cf59e26-970d-49fc-b51e-7f43daa65f11"
      },
      "execution_count": 14,
      "outputs": [
        {
          "output_type": "stream",
          "name": "stdout",
          "text": [
            "  CustomerID                                         Lookalike1  \\\n",
            "0      C0001  {'CustomerID': 'C0005', 'Score': 0.99999986048...   \n",
            "1      C0002  {'CustomerID': 'C0134', 'Score': 0.99999970988...   \n",
            "2      C0003  {'CustomerID': 'C0031', 'Score': 0.99999989325...   \n",
            "3      C0004  {'CustomerID': 'C0113', 'Score': 0.99999992457...   \n",
            "4      C0005  {'CustomerID': 'C0007', 'Score': 0.99999990974...   \n",
            "\n",
            "                                          Lookalike2  \\\n",
            "0  {'CustomerID': 'C0045', 'Score': 0.99999985983...   \n",
            "1  {'CustomerID': 'C0043', 'Score': 0.99999955323...   \n",
            "2  {'CustomerID': 'C0113', 'Score': 0.99999971528...   \n",
            "3  {'CustomerID': 'C0017', 'Score': 0.99999990773...   \n",
            "4  {'CustomerID': 'C0127', 'Score': 0.99999988591...   \n",
            "\n",
            "                                          Lookalike3  \n",
            "0  {'CustomerID': 'C0146', 'Score': 0.99999982811...  \n",
            "1  {'CustomerID': 'C0031', 'Score': 0.99999950729...  \n",
            "2  {'CustomerID': 'C0086', 'Score': 0.99999971361...  \n",
            "3  {'CustomerID': 'C0039', 'Score': 0.99999990448...  \n",
            "4  {'CustomerID': 'C0001', 'Score': 0.99999986048...  \n"
          ]
        }
      ]
    },
    {
      "cell_type": "code",
      "source": [],
      "metadata": {
        "id": "osp8fJ-1CukB"
      },
      "execution_count": null,
      "outputs": []
    }
  ]
}